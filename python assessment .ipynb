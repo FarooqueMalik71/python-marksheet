{
 "cells": [
  {
   "cell_type": "code",
   "execution_count": 57,
   "id": "5c1ebbd0",
   "metadata": {},
   "outputs": [
    {
     "name": "stdout",
     "output_type": "stream",
     "text": [
      "Grade B\n",
      "Total Marks  300\n",
      "Obtain Marks 180\n",
      "Percentage  60.0\n"
     ]
    }
   ],
   "source": [
    "eng = 50;\n",
    "isl = 40;\n",
    "math = 90;\n",
    "total_marks = 300;\n",
    "obtain_marks = eng+isl+math;\n",
    "percent = obtain_marks/total_marks*100;\n",
    "\n",
    "# Farooque Malik Roll_number jp11282\n",
    "\n",
    "if percent <= 100 and percent >= 80:\n",
    "    print(\"Grade A+\");\n",
    "elif percent < 80 and percent >= 70:\n",
    "        print (\"Grade A\"); \n",
    "elif  percent < 70 and percent >= 60:\n",
    "        print (\"Grade B\"); \n",
    "elif  percent < 60 and percent >= 50:\n",
    "        print (\"Grade C\"); \n",
    "elif  percent < 50 and percent >= 40:\n",
    "        print (\"Grade D\");\n",
    "elif  percent < 40 and percent >= 33:\n",
    "        print (\"Grade E\");\n",
    "elif  percent <= 33 and percent >= 1:\n",
    "        print (\"FAIL\"); \n",
    "        \n",
    "else: \n",
    "    print(\"Please Enter Your Valid Percentage \");\n",
    "\n",
    "print(\"Total Marks \",total_marks);\n",
    "print(\"Obtain Marks\",obtain_marks);\n",
    "print(\"Percentage \",percent);\n",
    "\n"
   ]
  },
  {
   "cell_type": "code",
   "execution_count": null,
   "id": "63c20932",
   "metadata": {},
   "outputs": [],
   "source": []
  }
 ],
 "metadata": {
  "kernelspec": {
   "display_name": "Python 3",
   "language": "python",
   "name": "python3"
  },
  "language_info": {
   "codemirror_mode": {
    "name": "ipython",
    "version": 3
   },
   "file_extension": ".py",
   "mimetype": "text/x-python",
   "name": "python",
   "nbconvert_exporter": "python",
   "pygments_lexer": "ipython3",
   "version": "3.8.8"
  }
 },
 "nbformat": 4,
 "nbformat_minor": 5
}
